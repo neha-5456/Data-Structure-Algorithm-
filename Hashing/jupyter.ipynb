{
  "cells": [
    {
      "cell_type": "markdown",
      "id": "31d9a4c9",
      "metadata": {
        "origin_pos": 0,
        "id": "31d9a4c9"
      },
      "source": [
        "**What is Hashing in DSA?**\n",
        "\n",
        "Hashing is a technique to store and find data quickly using a special function called a hash function.\n",
        "\n",
        "Instead of searching through the whole list (which is slow), hashing helps us jump directly to where the data should be."
      ]
    },
    {
      "cell_type": "markdown",
      "source": [
        "**Example (Real Life)**\n",
        "\n",
        "    Imagine you have a library with 10,000 books.\n",
        "    If you search book by book, it will take a long time.\n",
        "\n",
        "    But if the librarian has a system:\n",
        "\n",
        "    She uses the first letter of the book’s title to decide the shelf.\n",
        "\n",
        "    \"Harry Potter\" → Shelf H\n",
        "\n",
        "    \"Cinderella\" → Shelf C"
      ],
      "metadata": {
        "id": "BZ4_mTAVZQ41"
      },
      "id": "BZ4_mTAVZQ41"
    },
    {
      "cell_type": "markdown",
      "source": [
        "**Why Hashing?**\n",
        "\n",
        "Searching in array: O(n) (slow).\n",
        "\n",
        "Searching in sorted array with binary search: O(log n) (better).\n",
        "\n",
        "Searching in hash table: O(1) average (super fast 🚀)."
      ],
      "metadata": {
        "id": "uKCHEMr5bILb"
      },
      "id": "uKCHEMr5bILb"
    },
    {
      "cell_type": "markdown",
      "source": [
        "**Sometimes two keys go to the same place**. Example:\n",
        "\n",
        "Hash(21) → index 1\n",
        "\n",
        "Hash(31) → index 1 (collision ❌)\n",
        "\n",
        "Ways to handle collisions:\n",
        "\n",
        "**Chaining** → keep a linked list at each index.\n",
        "\n",
        "**Open Addressing** → find next empty slot."
      ],
      "metadata": {
        "id": "2oPje7C7bKNM"
      },
      "id": "2oPje7C7bKNM"
    },
    {
      "cell_type": "markdown",
      "source": [
        "**Collision Handling in Hashing**\n",
        "\n",
        "**1. Chaining (Linked List Method)**\n",
        "\n",
        "      Each index of the hash table stores a linked list (or a dynamic array).\n",
        "\n",
        "      If multiple keys go to the same index, we just append them there.\n",
        "\n",
        "      📖 Example\n",
        "\n",
        "      Suppose our hash function is:\n",
        "      index = key % 5\n",
        "      (Hash table size = 5)\n",
        "\n",
        "      Keys to insert: 10, 20, 15, 25\n",
        "\n",
        "      Hash(10) = 10 % 5 = 0 → goes to index 0\n",
        "\n",
        "      Hash(20) = 20 % 5 = 0 → also index 0 (collision!) → stored in linked list at index 0\n",
        "\n",
        "      Hash(15) = 15 % 5 = 0 → again index 0 → add to same list\n",
        "\n",
        "      Hash(25) = 25 % 5 = 0 → again index 0\n",
        "\n",
        "      👉 So index 0 will have: [10 → 20 → 15 → 25]\n",
        "\n",
        "      Index | Values\n",
        "      ----------------\n",
        "      0     | 10 → 20 → 15 → 25\n",
        "      1     |\n",
        "      2     |\n",
        "      3     |\n",
        "      4     |\n",
        "\n",
        "✅ Advantage: Easy to implement, no need to move items.\n",
        "❌ Disadvantage: If too many collisions, linked list becomes long → search time slows to O(n)."
      ],
      "metadata": {
        "id": "UD8O_-i9bYd6"
      },
      "id": "UD8O_-i9bYd6"
    },
    {
      "cell_type": "markdown",
      "source": [
        "**2. Open Addressing**\n",
        "\n",
        "Here, all elements are stored in the hash table itself (no linked list).\n",
        "If a spot is taken, we probe (search) for another empty spot.\n",
        "\n",
        "**Methods of Open Addressing:**\n",
        "\n",
        "      a) Linear Probing\n",
        "\n",
        "          If index is occupied, check the next index (index + 1), keep going until empty.\n",
        "\n",
        "          📖 Example (Hash = key % 5):\n",
        "          Insert: 10, 20, 15\n",
        "\n",
        "          Hash(10) = 0 → place at index 0\n",
        "\n",
        "          Hash(20) = 0 → collision! → try index 1 → empty → place at index 1\n",
        "\n",
        "          Hash(15) = 0 → collision! → index 1 occupied → try index 2 → empty → place at index 2\n",
        "\n",
        "          Index | Values\n",
        "          ----------------\n",
        "          0     | 10\n",
        "          1     | 20\n",
        "          2     | 15\n",
        "          3     |\n",
        "          4     |\n",
        "\n",
        "          ✅ Easy and cache-friendly\n",
        "         ❌ Problem: Clustering (many items fill consecutive slots, search slows).\n",
        "\n",
        "\n",
        "     b) Quadratic Probing\n",
        "\n",
        "          Instead of checking next slot (1,2,3...), we check squares:\n",
        "          (index + 1²), (index + 2²), (index + 3²)...\n",
        "\n",
        "          📖 Example:\n",
        "          Hash(10)=0, Hash(20)=0, Hash(15)=0\n",
        "\n",
        "          10 → index 0\n",
        "\n",
        "          20 → index 0 (collision) → try (0+1²)=1 → place at 1\n",
        "\n",
        "          15 → index 0 (collision) → (0+1²)=1 occupied → (0+2²)=4 → place at index 4\n",
        "\n",
        "          Index | Values\n",
        "          ----------------\n",
        "          0     | 10\n",
        "          1     | 20\n",
        "          2     |\n",
        "          3     |\n",
        "          4     | 15\n",
        "\n",
        "          ✅ Less clustering\n",
        "          ❌ Still possible to fail if table is too full.\n",
        "\n",
        "\n",
        "     c) Double Hashing\n",
        "\n",
        "          Use two hash functions.\n",
        "\n",
        "          If collision occurs, second hash function decides the step size.\n",
        "\n",
        "          Formula:\n",
        "          new_index = (hash1(key) + i * hash2(key)) % table_size   \n",
        "\n",
        "          ✅ Very efficient, avoids clustering\n",
        "          ❌ Needs two good hash functions"
      ],
      "metadata": {
        "id": "dloyByaGbmih"
      },
      "id": "dloyByaGbmih"
    },
    {
      "cell_type": "code",
      "source": [],
      "metadata": {
        "id": "4X0PafGscQDJ"
      },
      "id": "4X0PafGscQDJ",
      "execution_count": null,
      "outputs": []
    }
  ],
  "metadata": {
    "kernelspec": {
      "display_name": "Python 3",
      "name": "python3"
    },
    "language_info": {
      "name": "python"
    },
    "required_libs": [],
    "colab": {
      "provenance": []
    }
  },
  "nbformat": 4,
  "nbformat_minor": 5
}