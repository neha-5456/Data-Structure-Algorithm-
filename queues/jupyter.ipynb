{
  "cells": [
    {
      "cell_type": "markdown",
      "source": [
        "🔹 **What is a Queue?**\n",
        "\n",
        "A Queue is a linear data structure that follows the FIFO (First In, First Out) principle.\n",
        "\n",
        "👉 The first element added to the queue will be the first one to be removed.\n",
        "\n",
        "🔹 **Basic Queue Operations:**\n",
        "\n",
        "  **Enqueue (x)** → Insert an element at the rear (end).\n",
        "\n",
        "  **Dequeue()** → Remove an element from the front.\n",
        "\n",
        "  **Peek/Front()** → Get the element at the front without removing it.\n",
        "\n",
        "  **isEmpty()** → Check if the queue is empty.\n",
        "\n",
        "  ***isFull()*** → (in case of array-based queue) check if the queue is full.\n",
        "\n",
        "🔹** Types of Queues:**\n",
        "\n",
        "  **Simple Queue** → Standard FIFO queue.\n",
        "\n",
        "  **Circular Queue** → Connects end to front to efficiently use memory.\n",
        "\n",
        "  **Priority Queue** → Elements are dequeued based on priority, not arrival.\n",
        "\n",
        "  **Deque (Double-Ended Queue)** → Insertion & deletion possible from both ends."
      ],
      "metadata": {
        "id": "o3OWrI0-8IkU"
      },
      "id": "o3OWrI0-8IkU"
    },
    {
      "cell_type": "markdown",
      "source": [
        " **Using Linked List**\n"
      ],
      "metadata": {
        "id": "vEegwRVFBWBt"
      },
      "id": "vEegwRVFBWBt"
    },
    {
      "cell_type": "code",
      "source": [
        "# create Linked List Node\n",
        "class Node:\n",
        "\n",
        "    def __init__(self, value):\n",
        "         self.data = value\n",
        "         self.next = None\n",
        "\n",
        "class QueueLinkedList:\n",
        "  def __init__(self):\n",
        "    self.front = None\n",
        "    self.rear = None\n",
        "\n",
        "  def enqueue(self, val):\n",
        "    new_node = Node(val)\n",
        "    if self.rear is None:\n",
        "      self.front = new_node\n",
        "      new_node.next =self.front\n",
        "      self.rear = self.front\n",
        "    else:\n",
        "       self.rear.next = new_node\n",
        "       self.rear = new_node\n",
        "\n",
        "  def dequeue(self):\n",
        "    if self.front == None:\n",
        "      return 'empty'\n",
        "    else:\n",
        "      self.front = self.front.next\n",
        "\n",
        "  def front_item(self):\n",
        "    if self.front == None:\n",
        "      return 'empty'\n",
        "    else:\n",
        "      return self.front.data\n",
        "\n",
        "  def rear_item(self):\n",
        "    if self.front == None:\n",
        "      return 'empty'\n",
        "    else:\n",
        "      return self.rear.data\n",
        "\n",
        "  #  data\n",
        "  def display(self):\n",
        "    temp = self.front\n",
        "    res = ''\n",
        "    while temp:\n",
        "      res += str(temp.data) + '->'\n",
        "      temp  = temp.next\n",
        "    return res[:-2]\n",
        "\n",
        "  def __str__(self):\n",
        "    return self.display()\n",
        "\n",
        "s = QueueLinkedList()\n",
        "s.enqueue(1)\n",
        "s.enqueue(2)\n",
        "##s.front_item()\n",
        "## s.rear_item()\n",
        "#s.dequeue()\n",
        "print(s)"
      ],
      "metadata": {
        "colab": {
          "base_uri": "https://localhost:8080/"
        },
        "id": "WkLqPaoNA-Vv",
        "outputId": "2f32543d-7e46-489a-ca28-7462eff33cc3"
      },
      "id": "WkLqPaoNA-Vv",
      "execution_count": 9,
      "outputs": [
        {
          "output_type": "stream",
          "name": "stdout",
          "text": [
            "1->2\n"
          ]
        }
      ]
    },
    {
      "cell_type": "markdown",
      "source": [],
      "metadata": {
        "id": "RLWzsj3zEPCh"
      },
      "id": "RLWzsj3zEPCh"
    },
    {
      "cell_type": "markdown",
      "source": [
        "**two stack in to queue**"
      ],
      "metadata": {
        "id": "W9ajIwx5EPPL"
      },
      "id": "W9ajIwx5EPPL"
    },
    {
      "cell_type": "code",
      "source": [],
      "metadata": {
        "id": "__XaO5P9Km_8"
      },
      "id": "__XaO5P9Km_8",
      "execution_count": null,
      "outputs": []
    }
  ],
  "metadata": {
    "kernelspec": {
      "display_name": "Python 3",
      "name": "python3"
    },
    "language_info": {
      "name": "python"
    },
    "required_libs": [],
    "colab": {
      "provenance": []
    }
  },
  "nbformat": 4,
  "nbformat_minor": 5
}