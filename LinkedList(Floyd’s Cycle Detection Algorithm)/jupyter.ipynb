{
  "cells": [
    {
      "cell_type": "markdown",
      "source": [
        " (**Floyd’s Cycle Detection Algorithm**)\n",
        "\n",
        "We use two pointers:\n",
        "\n",
        "    slow pointer → moves 1 step at a time.\n",
        "\n",
        "    fast pointer → moves 2 steps at a time.\n",
        "\n",
        "**Example Linked List with Cycle**\n",
        "\n",
        "      Index:  0     1     2     3\n",
        "      Nodes: [3] → [2] → [0] → [-4]\n",
        "                        ↑         |\n",
        "                        |_________|\n",
        "\n",
        "     pos = 1 (because the last node -4 points back to index 1 node [2]).So there is a cycle.\n",
        "\n",
        "  **Step 1: Start** Both pointers are at the start.\n",
        "\n",
        "        slow = head (3)\n",
        "        fast = head (3)     \n",
        "\n",
        "  **Step 2: First Move** Different nodes.\n",
        "\n",
        "        slow = 2   (moved 1 step)\n",
        "        fast = 0   (moved 2 steps)   \n",
        "\n",
        "   **Step 3: Second Move** Still different.\n",
        "\n",
        "        slow = 0   (1 step)\n",
        "        fast = 2   (2 steps)\n",
        "\n",
        "  **Step 4: Third Move**  Now both pointers meet → Cycle detected.  \n",
        "\n",
        "      slow = -4   (1 step)\n",
        "      fast = -4   (2 steps)\n"
      ],
      "metadata": {
        "id": "W55i34tYgGdd"
      },
      "id": "W55i34tYgGdd"
    },
    {
      "cell_type": "markdown",
      "source": [
        "**LeetCode problem **\n",
        "\n",
        "https://leetcode.com/problems/linked-list-cycle/description/?envType=study-plan-v2&envId=top-interview-150"
      ],
      "metadata": {
        "id": "Eos2RSOKj_-M"
      },
      "id": "Eos2RSOKj_-M"
    },
    {
      "cell_type": "code",
      "source": [
        "class Node:\n",
        "    def __init__(self, val=0):\n",
        "        self.val = val\n",
        "        self.next = None\n",
        "\n",
        "\n",
        "def hasCycle(head):\n",
        "\n",
        "    slow = head\n",
        "    fast = head\n",
        "    while fast and fast.next:\n",
        "      slow = slow.next\n",
        "      fast = fast.next.next\n",
        "\n",
        "      if fast == slow:\n",
        "         return True\n",
        "\n",
        "    return False\n",
        "\n",
        "\n",
        "def createLinkedList(values, pos):\n",
        "    if not values:\n",
        "        return None\n",
        "\n",
        "    head = Node(values[0])\n",
        "    curr = head\n",
        "    nodes = [head]\n",
        "\n",
        "    # create nodes and store references\n",
        "    for val in values[1:]:\n",
        "        curr.next = Node(val)\n",
        "        curr = curr.next\n",
        "        nodes.append(curr)\n",
        "\n",
        "    # create cycle if pos != -1\n",
        "    if pos != -1:\n",
        "        curr.next = nodes[pos]\n",
        "\n",
        "    return head\n",
        "\n",
        "\n",
        "head = createLinkedList([3, 2, 0, -4], pos=1)  # cycle at index 1\n",
        "print(hasCycle(head))\n",
        "\n",
        "head2 = createLinkedList([1, 2], pos=-1)       # no cycle\n",
        "print(hasCycle(head2))"
      ],
      "metadata": {
        "id": "O1XaWWyXkSay",
        "outputId": "452786c1-e40e-44f4-cbea-1ac1d76e07bb",
        "colab": {
          "base_uri": "https://localhost:8080/"
        }
      },
      "id": "O1XaWWyXkSay",
      "execution_count": 1,
      "outputs": [
        {
          "output_type": "stream",
          "name": "stdout",
          "text": [
            "True\n",
            "False\n"
          ]
        }
      ]
    }
  ],
  "metadata": {
    "kernelspec": {
      "display_name": "Python 3",
      "name": "python3"
    },
    "language_info": {
      "name": "python"
    },
    "required_libs": [],
    "colab": {
      "provenance": []
    }
  },
  "nbformat": 4,
  "nbformat_minor": 5
}